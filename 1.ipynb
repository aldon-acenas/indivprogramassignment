{
 "cells": [
  {
   "cell_type": "code",
   "execution_count": 14,
   "id": "ed6064dd-2242-449f-bef2-7cebd61d8b73",
   "metadata": {},
   "outputs": [],
   "source": [
    "def savings(g,t,e):\n",
    "    '''Savings.\n",
    "    5 points.\n",
    "    This function calculates the money remaining\n",
    "        for an employee after taxes and expenses.\n",
    "    \n",
    "    To get the take-home pay of an employee, we will\n",
    "        follow the following process:\n",
    "        1. Apply the tax rate to the gross pay of the employee; round down\n",
    "        2. Subtract the expenses from the after-tax pay of the employee\n",
    "    Parameters\n",
    "    ----------\n",
    "    gross_pay: int\n",
    "        the gross pay of an employee for a certain time period, expressed in centavos\n",
    "    tax_rate: float\n",
    "        the tax rate for a certain time period, expressed as a number between 0 and 1 (e.g., 0.12)\n",
    "    expenses: int\n",
    "        the expenses of an employee for a certain time period, expressed in centavos\n",
    "    Returns\n",
    "    -------\n",
    "    int\n",
    "        the number of centavos remaining from an employee's pay after taxes and expenses\n",
    "    '''\n",
    "    # Replace `pass` with your code. \n",
    "    # Stay within the function. Only use the parameters as input. The function should return your answer.\n",
    "    return g-(int(t*g))-e\n",
    "    # i didn't end up putting an int() for the whole thing after return because i thought to myself that if all values end up becoming an integer, then it would be moot to put an int"
   ]
  },
  {
   "cell_type": "code",
   "execution_count": 12,
   "id": "3dc95a58-1daf-4bb6-a87f-a3eccbc9fd01",
   "metadata": {},
   "outputs": [
    {
     "data": {
      "text/plain": [
       "1140000"
      ]
     },
     "execution_count": 12,
     "metadata": {},
     "output_type": "execute_result"
    }
   ],
   "source": [
    "savings(3000000,0.12,1500000)"
   ]
  },
  {
   "cell_type": "code",
   "execution_count": null,
   "id": "75182505-f0a5-480b-a872-eec58971da18",
   "metadata": {},
   "outputs": [],
   "source": []
  },
  {
   "cell_type": "code",
   "execution_count": null,
   "id": "ccddfe56-5241-4799-9ed3-e8db980fd7fe",
   "metadata": {},
   "outputs": [],
   "source": []
  }
 ],
 "metadata": {
  "kernelspec": {
   "display_name": "Python 3 (ipykernel)",
   "language": "python",
   "name": "python3"
  },
  "language_info": {
   "codemirror_mode": {
    "name": "ipython",
    "version": 3
   },
   "file_extension": ".py",
   "mimetype": "text/x-python",
   "name": "python",
   "nbconvert_exporter": "python",
   "pygments_lexer": "ipython3",
   "version": "3.9.12"
  }
 },
 "nbformat": 4,
 "nbformat_minor": 5
}
