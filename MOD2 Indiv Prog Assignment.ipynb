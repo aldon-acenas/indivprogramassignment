{
 "cells": [
  {
   "cell_type": "code",
   "execution_count": 11,
   "id": "c8c8920c-cd2a-4cdf-bed9-ebba6673a570",
   "metadata": {},
   "outputs": [],
   "source": [
    "'''Module 2: Individual Programming Assignment 1\n",
    "Useful Business Calculations\n",
    "This assignment covers your basic proficiency with Python.\n",
    "'''\n",
    "\n",
    "def savings(g,t,e):\n",
    "    '''Savings.\n",
    "    5 points.\n",
    "    This function calculates the money remaining\n",
    "        for an employee after taxes and expenses.\n",
    "    \n",
    "    To get the take-home pay of an employee, we will\n",
    "        follow the following process:\n",
    "        1. Apply the tax rate to the gross pay of the employee; round down\n",
    "        2. Subtract the expenses from the after-tax pay of the employee\n",
    "    Parameters\n",
    "    ----------\n",
    "    gross_pay: int\n",
    "        the gross pay of an employee for a certain time period, expressed in centavos\n",
    "    tax_rate: float\n",
    "        the tax rate for a certain time period, expressed as a number between 0 and 1 (e.g., 0.12)\n",
    "    expenses: int\n",
    "        the expenses of an employee for a certain time period, expressed in centavos\n",
    "    Returns\n",
    "    -------\n",
    "    int\n",
    "        the number of centavos remaining from an employee's pay after taxes and expenses\n",
    "    '''\n",
    "    # Replace `pass` with your code. \n",
    "    # Stay within the function. Only use the parameters as input. The function should return your answer.\n",
    "    return g-(int(t*g))-e\n",
    "    # i didn't end up putting an int() for the whole thing after return because i thought to myself that if all values end up becoming an integer, then it would be moot to put an int\n",
    "\n",
    "def material_waste(t,m,n,j):\n",
    "    '''Material Waste.\n",
    "    5 points.\n",
    "    This function calculates how much material input will be wasted\n",
    "        after running a certain number of jobs that consume\n",
    "        a set amount of material.\n",
    "    To get the waste of a set of jobs:\n",
    "        1. Multiply the number of jobs by the material consumption per job.\n",
    "        2. Subtract the total material consumed from the total material available.\n",
    "    The users of this function also want you to format the output as a string, annotated with the\n",
    "        units in which the material is expressed. Do not add a space between the number and the unit.\n",
    "    Parameters\n",
    "    ----------\n",
    "    total_material: int\n",
    "        the total material available\n",
    "    material_units: str\n",
    "        the units used to express a quantity of the material (e.g., \"kg\", \"L\", etc.)\n",
    "    num_jobs: int\n",
    "        the number of jobs to run\n",
    "    job_consumption: int\n",
    "        the amount of material consumed per job\n",
    "    Returns\n",
    "    -------\n",
    "    str\n",
    "        the amount of remaining material expressed with its unit (e.g., \"10kg\").\n",
    "    '''\n",
    "    # Replace `pass` with your code. \n",
    "    # Stay within the function. Only use the parameters as input. The function should return your answer.\n",
    "    return(str(t - (n*j))+m)\n",
    "\n",
    "def interest(L,r,t):\n",
    "    '''Interest.\n",
    "    5 points.\n",
    "    This function calculates the final value of an investment after\n",
    "        gaining simple interest over a number of periods.\n",
    "    To calculate simple interest, simply multiply the principal to the quantity (rate * time). \n",
    "        Add this amount to the principal to get the final value.\n",
    "    Round down the final amount.\n",
    "    Parameters\n",
    "    ----------\n",
    "    principal: int\n",
    "        the principal (i.e., starting) amount invested, expressed in centavos\n",
    "    rate: float\n",
    "        the interest rate per period, expressed as a decimal representation of a percentage (e.g., 3% is 0.03)\n",
    "    periods: int\n",
    "        the number of periods invested\n",
    "    Returns\n",
    "    -------\n",
    "    int\n",
    "        the final value of the investment\n",
    "    '''\n",
    "    # Replace `pass` with your code. \n",
    "    # Stay within the function. Only use the parameters as input. The function should return your answer.\n",
    "    return(int(L+L*r*t))\n",
    "    \n",
    "def body_mass_index(w,h):\n",
    "    '''Body Mass Index.\n",
    "    5 points.\n",
    "    This function calculates the body mass index (BMI) of a person\n",
    "        given their weight and height.\n",
    "    The formula for BMI is: kg / (m ^ 2)\n",
    "        (i.e., kilograms over meters squared)\n",
    "    Unfortunately, the users of this function use the imperial system.\n",
    "        You will need to first convert their arguments to the metric system.\n",
    "    \n",
    "    Parameters\n",
    "    ----------\n",
    "    weight: float\n",
    "        the weight of the person, in pounds\n",
    "    height: list\n",
    "        the height of the person, expressed as a list of two integers.\n",
    "        the first integer is the foot component of their height.\n",
    "        the second integer is the inches component of their height.\n",
    "        for example, 5'10\" would be passed as [5, 10].\n",
    "    Returns\n",
    "    -------\n",
    "    float\n",
    "        the BMI of the person.\n",
    "    '''\n",
    "    # Replace `pass` with your code. \n",
    "    # Stay within the function. Only use the parameters as input. The function should return your answer.\n",
    "    kg = w / 2.2\n",
    "    m = (h[0]*12 + h[1])/39.37\n",
    "\n",
    "    return (float( kg / (m**2) ))\n",
    "    \n",
    "    "
   ]
  },
  {
   "cell_type": "code",
   "execution_count": 2,
   "id": "7c5d137c-51f3-48f3-b566-bb00152a8e00",
   "metadata": {},
   "outputs": [
    {
     "data": {
      "text/plain": [
       "'1kg'"
      ]
     },
     "execution_count": 2,
     "metadata": {},
     "output_type": "execute_result"
    }
   ],
   "source": [
    "material_waste (2,\"kg\",1,1)"
   ]
  },
  {
   "cell_type": "code",
   "execution_count": 4,
   "id": "07ccd2ee-8c87-492f-af09-597532b4dee1",
   "metadata": {},
   "outputs": [
    {
     "data": {
      "text/plain": [
       "2000"
      ]
     },
     "execution_count": 4,
     "metadata": {},
     "output_type": "execute_result"
    }
   ],
   "source": [
    "interest(1000,0.5,2)"
   ]
  },
  {
   "cell_type": "code",
   "execution_count": 12,
   "id": "05bd00a8-5742-4d89-b7f3-97773a84c853",
   "metadata": {},
   "outputs": [
    {
     "data": {
      "text/plain": [
       "25.951045730401585"
      ]
     },
     "execution_count": 12,
     "metadata": {},
     "output_type": "execute_result"
    }
   ],
   "source": [
    "body_mass_index(165.347,[5,7])"
   ]
  },
  {
   "cell_type": "code",
   "execution_count": null,
   "id": "7f483774-da80-4550-b5ce-c5455f8beb7d",
   "metadata": {},
   "outputs": [],
   "source": []
  }
 ],
 "metadata": {
  "kernelspec": {
   "display_name": "Python 3 (ipykernel)",
   "language": "python",
   "name": "python3"
  },
  "language_info": {
   "codemirror_mode": {
    "name": "ipython",
    "version": 3
   },
   "file_extension": ".py",
   "mimetype": "text/x-python",
   "name": "python",
   "nbconvert_exporter": "python",
   "pygments_lexer": "ipython3",
   "version": "3.9.12"
  }
 },
 "nbformat": 4,
 "nbformat_minor": 5
}
